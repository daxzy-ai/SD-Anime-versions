{
  "cells": [
    {
      "cell_type": "markdown",
      "metadata": {
        "id": "view-in-github",
        "colab_type": "text"
      },
      "source": [
        "<a href=\"https://colab.research.google.com/github/daxzy-ai/SD-Anime-versions-webui/blob/main/gdrive_LoRA.ipynb\" target=\"_parent\"><img src=\"https://colab.research.google.com/assets/colab-badge.svg\" alt=\"Open In Colab\"/></a>"
      ]
    },
    {
      "cell_type": "markdown",
      "source": [
        "# 1. Setup the web ui"
      ],
      "metadata": {
        "id": "bsiZpfkU7S77"
      }
    },
    {
      "cell_type": "code",
      "execution_count": null,
      "metadata": {
        "id": "sBbcB4vwj_jm",
        "colab": {
          "base_uri": "https://localhost:8080/"
        },
        "outputId": "8b01a4b5-d624-4062-f71b-1e70bb2a9acb"
      },
      "outputs": [
        {
          "output_type": "stream",
          "name": "stdout",
          "text": [
            "  % Total    % Received % Xferd  Average Speed   Time    Time     Time  Current\n",
            "                                 Dload  Upload   Total   Spent    Left  Speed\n",
            "  0     0    0     0    0     0      0      0 --:--:-- --:--:-- --:--:--     0\n",
            "100  761k  100  761k    0     0  2394k      0 --:--:-- --:--:-- --:--:-- 2394k\n",
            "Archive:  /content/memfix.zip\n",
            "  inflating: google-perftools_2.5-2.2ubuntu3_all.deb  \n",
            "  inflating: libtcmalloc-minimal4_2.5-2.2ubuntu3_amd64.deb  \n",
            "  inflating: libgoogle-perftools4_2.5-2.2ubuntu3_amd64.deb  \n",
            "  inflating: libgoogle-perftools-dev_2.5-2.2ubuntu3_amd64.deb  \n",
            "The following NEW packages will be installed:\n",
            "  libunwind-dev\n",
            "0 upgraded, 1 newly installed, 0 to remove and 24 not upgraded.\n",
            "Need to get 472 kB of archives.\n",
            "After this operation, 4,164 kB of additional disk space will be used.\n",
            "Selecting previously unselected package libunwind-dev:amd64.\n"
          ]
        }
      ],
      "source": [
        "!curl -Lo memfix.zip https://github.com/nolanaatama/sd-webui/raw/main/memfix.zip\n",
        "!unzip /content/memfix.zip\n",
        "!apt install -qq libunwind8-dev\n",
        "!dpkg -i *.deb\n",
        "%env LD_PRELOAD=libtcmalloc.so\n",
        "!rm *\n",
        "!pip install --upgrade fastapi==0.90.1\n",
        "!pip install torch==1.13.1+cu116 torchvision==0.14.1+cu116 torchaudio==0.13.1 torchtext==0.14.1 torchdata==0.5.1 --extra-index-url https://download.pytorch.org/whl/cu116 -U\n",
        "!git clone https://github.com/AUTOMATIC1111/stable-diffusion-webui\n",
        "!git clone https://github.com/nolanaatama/sd-webui-tunnels /content/stable-diffusion-webui/extensions/sd-webui-tunnels\n",
        "!git clone https://github.com/Mikubill/sd-webui-controlnet /content/stable-diffusion-webui/extensions/sd-webui-controlnet\n",
        "!git clone https://github.com/fkunn1326/openpose-editor /content/stable-diffusion-webui/extensions/openpose-editor\n",
        "!git clone https://github.com/yfszzx/stable-diffusion-webui-images-browser /content/stable-diffusion-webui/extensions/stable-diffusion-webui-images-browser\n",
        "\n",
        "# Model(s) setup\n",
        "# Below are model code for ChilloutMix, we always could change it to our desired model (how-to: https://youtu.be/vj-QrS_mWQI or https://youtu.be/MwyfwPFezvY)\n",
        "!curl -Lo /content/stable-diffusion-webui/models/Stable-diffusion/AbyssOrangeMix2_hard.safetensors https://huggingface.co/WarriorMama777/OrangeMixs/resolve/main/Models/AbyssOrangeMix2/AbyssOrangeMix2_hard.safetensors\n",
        "!curl -Lo /content/stable-diffusion-webui/models/Stable-diffusion/orangemix.vae.pt https://huggingface.co/WarriorMama777/OrangeMixs/resolve/main/VAEs/orangemix.vae.pt\n",
        "\n",
        "# ControlNet\n",
        "!curl -Lo /content/stable-diffusion-webui/extensions/sd-webui-controlnet/models/control_canny.safetensors https://huggingface.co/webui/ControlNet-modules-safetensors/resolve/main/control_canny-fp16.safetensors\n",
        "!curl -Lo /content/stable-diffusion-webui/extensions/sd-webui-controlnet/models/control_depth.safetensors https://huggingface.co/webui/ControlNet-modules-safetensors/resolve/main/control_depth-fp16.safetensors\n",
        "!curl -Lo /content/stable-diffusion-webui/extensions/sd-webui-controlnet/models/control_hed-fp16.safetensors https://huggingface.co/webui/ControlNet-modules-safetensors/resolve/main/control_hed-fp16.safetensors\n",
        "!curl -Lo /content/stable-diffusion-webui/extensions/sd-webui-controlnet/models/control_mlsd-fp16.safetensors https://huggingface.co/webui/ControlNet-modules-safetensors/resolve/main/control_mlsd-fp16.safetensors\n",
        "!curl -Lo /content/stable-diffusion-webui/extensions/sd-webui-controlnet/models/control_normal-fp16.safetensors https://huggingface.co/webui/ControlNet-modules-safetensors/resolve/main/control_normal-fp16.safetensors\n",
        "!curl -Lo /content/stable-diffusion-webui/extensions/sd-webui-controlnet/models/control_openpose-fp16.safetensors https://huggingface.co/webui/ControlNet-modules-safetensors/resolve/main/control_openpose-fp16.safetensors\n",
        "!curl -Lo /content/stable-diffusion-webui/extensions/sd-webui-controlnet/models/control_scribble-fp16.safetensors https://huggingface.co/webui/ControlNet-modules-safetensors/resolve/main/control_scribble-fp16.safetensors\n",
        "!curl -Lo /content/stable-diffusion-webui/extensions/sd-webui-controlnet/models/control_seg-fp16.safetensors https://huggingface.co/webui/ControlNet-modules-safetensors/resolve/main/control_seg-fp16.safetensors\n",
        "!curl -Lo /content/stable-diffusion-webui/extensions/sd-webui-controlnet/models/t2iadapter_canny_sd14v1.pth https://huggingface.co/TencentARC/T2I-Adapter/resolve/main/models/t2iadapter_canny_sd14v1.pth\n",
        "!curl -Lo /content/stable-diffusion-webui/extensions/sd-webui-controlnet/models/t2iadapter_color_sd14v1.pth https://huggingface.co/TencentARC/T2I-Adapter/resolve/main/models/t2iadapter_color_sd14v1.pth\n",
        "!curl -Lo /content/stable-diffusion-webui/extensions/sd-webui-controlnet/models/t2iadapter_depth_sd14v1.pth https://huggingface.co/TencentARC/T2I-Adapter/resolve/main/models/t2iadapter_depth_sd14v1.pth\n",
        "!curl -Lo /content/stable-diffusion-webui/extensions/sd-webui-controlnet/models/t2iadapter_keypose_sd14v1.pth https://huggingface.co/TencentARC/T2I-Adapter/resolve/main/models/t2iadapter_keypose_sd14v1.pth\n",
        "!curl -Lo /content/stable-diffusion-webui/extensions/sd-webui-controlnet/models/t2iadapter_openpose_sd14v1.pth https://huggingface.co/TencentARC/T2I-Adapter/resolve/main/models/t2iadapter_openpose_sd14v1.pth\n",
        "!curl -Lo /content/stable-diffusion-webui/extensions/sd-webui-controlnet/models/t2iadapter_seg_sd14v1.pth https://huggingface.co/TencentARC/T2I-Adapter/resolve/main/models/t2iadapter_seg_sd14v1.pth\n",
        "!curl -Lo /content/stable-diffusion-webui/extensions/sd-webui-controlnet/models/t2iadapter_sketch_sd14v1.pth https://huggingface.co/TencentARC/T2I-Adapter/resolve/main/models/t2iadapter_sketch_sd14v1.pth\n",
        "!curl -Lo /content/stable-diffusion-webui/extensions/sd-webui-controlnet/models/t2iadapter_style_sd14v1.pth https://huggingface.co/TencentARC/T2I-Adapter/resolve/main/models/t2iadapter_style_sd14v1.pth\n",
        "import shutil\n",
        "shutil.rmtree('/content/stable-diffusion-webui/embeddings')\n",
        "%cd /content/stable-diffusion-webui\n",
        "!git checkout 0cc0ee1\n",
        "!git clone https://huggingface.co/nolanaatama/embeddings\n",
        "%cd /content/stable-diffusion-webui/models\n",
        "!git clone https://huggingface.co/nolanaatama/ESRGAN\n",
        "%cd /content/stable-diffusion-webui\n",
        "# Web UI tunnel\n",
        "!COMMANDLINE_ARGS=\"--share --disable-safe-unpickle --no-half-vae --xformers --reinstall-xformers --enable-insecure-extension- --gradio-queue --remotemoe\" REQS_FILE=\"requirements.txt\" python launch.py\n",
        "# If remotemoe failed to start, change '--remotemoe' to '--cloudflared' on the COMMANDLINE_ARGS line above to use cloudflare tunnel"
      ]
    },
    {
      "cell_type": "markdown",
      "source": [
        "# 2. After the gradio link show up, stop the first cell & clear the code output👆"
      ],
      "metadata": {
        "id": "JUtPlg328avv"
      }
    },
    {
      "cell_type": "markdown",
      "source": [
        "# 3. Mount our drive"
      ],
      "metadata": {
        "id": "qxhOCPrg7WXm"
      }
    },
    {
      "cell_type": "code",
      "source": [
        "from google.colab import drive\n",
        "drive.mount('/content/drive')"
      ],
      "metadata": {
        "id": "alypPmxi69M4"
      },
      "execution_count": null,
      "outputs": []
    },
    {
      "cell_type": "markdown",
      "source": [
        "# 4. Load the LoRA(s)"
      ],
      "metadata": {
        "id": "DQwVPx-t8Nol"
      }
    },
    {
      "cell_type": "markdown",
      "source": [
        "OPTION 1: choose individual LoRA"
      ],
      "metadata": {
        "id": "OJx4QIQosMMq"
      }
    },
    {
      "cell_type": "code",
      "source": [
        "# Change the file path to our LoRA file path.\n",
        "# Remove the '#' from the beginning of the other lines to load additional files.\n",
        "\n",
        "!cp \"/content/drive/MyDrive/our_LoRA_folder/OURLORAFILE1.pt\" \"/content/stable-diffusion-webui/models/Lora\"\n",
        "#!cp \"/content/drive/MyDrive/our_LoRA_folder/OURLORAFILE2.pt\" \"/content/stable-diffusion-webui/models/Lora\"\n",
        "#!cp \"/content/drive/MyDrive/our_LoRA_folder/OURLORAFILE3.pt\" \"/content/stable-diffusion-webui/models/Lora\"\n",
        "#!cp \"/content/drive/MyDrive/our_LoRA_folder/OURLORAFILE4.pt\" \"/content/stable-diffusion-webui/models/Lora\"\n",
        "#!cp \"/content/drive/MyDrive/our_LoRA_folder/OURLORAFILE5.pt\" \"/content/stable-diffusion-webui/models/Lora\"\n",
        "#!cp \"/content/drive/MyDrive/our_LoRA_folder/OURLORAFILE6.pt\" \"/content/stable-diffusion-webui/models/Lora\"\n",
        "#!cp \"/content/drive/MyDrive/our_LoRA_folder/OURLORAFILE7.pt\" \"/content/stable-diffusion-webui/models/Lora\"\n",
        "#!cp \"/content/drive/MyDrive/our_LoRA_folder/OURLORAFILE8.pt\" \"/content/stable-diffusion-webui/models/Lora\"\n",
        "# ...."
      ],
      "metadata": {
        "id": "1E0f1kMTrGJ0"
      },
      "execution_count": null,
      "outputs": []
    },
    {
      "cell_type": "markdown",
      "source": [
        "OPTION 2: copy all LoRA files from google drive folder"
      ],
      "metadata": {
        "id": "47CPtGUfsar8"
      }
    },
    {
      "cell_type": "code",
      "source": [
        "# Remove the '#' from the '!cp -r ...' line and change the file path to our LoRA folder path.\n",
        "# The LoRA folder path must be ended with '/.' like '/folder/subfolder/.'\n",
        "\n",
        "!cp -r '/content/drive/MyDrive/our_LoRA_folder1/.' '/content/stable-diffusion-webui/models/Lora'\n",
        "#!cp -r '/content/drive/MyDrive/our_LoRA_folder2/.' '/content/stable-diffusion-webui/models/Lora'\n",
        "#!cp -r '/content/drive/MyDrive/our_LoRA_folder3/.' '/content/stable-diffusion-webui/models/Lora'\n",
        "# ...."
      ],
      "metadata": {
        "id": "dKmIwc3lsYR6"
      },
      "execution_count": null,
      "outputs": []
    },
    {
      "cell_type": "markdown",
      "source": [
        "# 5. Launch the web ui"
      ],
      "metadata": {
        "id": "R-WXDJ8n8R2X"
      }
    },
    {
      "cell_type": "code",
      "source": [
        "# Web UI tunnel\n",
        "!COMMANDLINE_ARGS=\"--share --disable-safe-unpickle --no-half-vae --xformers --reinstall-xformers --enable-insecure-extension- --gradio-queue --remotemoe\" REQS_FILE=\"requirements.txt\" python launch.py\n",
        "# If remotemoe failed to start, change '--remotemoe' to '--cloudflared' on the COMMANDLINE_ARGS line above to use cloudflare tunnel"
      ],
      "metadata": {
        "id": "TFuxn-DE7t82"
      },
      "execution_count": null,
      "outputs": []
    },
    {
      "cell_type": "markdown",
      "metadata": {
        "id": "fhwIXzcgfkoR"
      },
      "source": [
        "# 📚 GitHub for more: [_@nolanaatama_](https://github.com/nolanaatama)\n",
        "# 📦 Repo: [Github](https://github.com/nolanaatama/sd-misc-colab)"
      ]
    }
  ],
  "metadata": {
    "accelerator": "GPU",
    "colab": {
      "provenance": [],
      "include_colab_link": true
    },
    "gpuClass": "standard",
    "kernelspec": {
      "display_name": "Python 3",
      "name": "python3"
    },
    "language_info": {
      "name": "python"
    }
  },
  "nbformat": 4,
  "nbformat_minor": 0
}