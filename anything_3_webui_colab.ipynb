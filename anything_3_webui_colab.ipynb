{
  "nbformat": 4,
  "nbformat_minor": 0,
  "metadata": {
    "colab": {
      "provenance": [],
      "machine_shape": "hm",
      "include_colab_link": true
    },
    "kernelspec": {
      "name": "python3",
      "display_name": "Python 3"
    },
    "accelerator": "TPU"
  },
  "cells": [
    {
      "cell_type": "markdown",
      "metadata": {
        "id": "view-in-github",
        "colab_type": "text"
      },
      "source": [
        "<a href=\"https://colab.research.google.com/github/daxzy-ai/SD-Anime-versions/blob/main/anything_3_webui_colab.ipynb\" target=\"_parent\"><img src=\"https://colab.research.google.com/assets/colab-badge.svg\" alt=\"Open In Colab\"/></a>"
      ]
    },
    {
      "cell_type": "markdown",
      "metadata": {
        "id": "4cbgwZWWfWpp"
      },
      "source": [
        "# 1) Increase ram to 25 GB (click on both fields)"
      ]
    },
    {
      "cell_type": "code",
      "metadata": {
        "id": "tAb77yZ9fzMG"
      },
      "source": [],
      "execution_count": 1,
      "outputs": []
    },
    {
      "cell_type": "code",
      "metadata": {
        "id": "pafL7Li0jyXW"
      },
      "source": [],
      "execution_count": 1,
      "outputs": []
    },
    {
      "cell_type": "markdown",
      "source": [
        "# 2) Start anything V3"
      ],
      "metadata": {
        "id": "CjHfTHdeCWpL"
      }
    },
    {
      "cell_type": "code",
      "source": [
        "!pip install -q https://github.com/camenduru/stable-diffusion-webui-colab/releases/download/0.0.15/xformers-0.0.15.dev0+189828c.d20221207-cp38-cp38-linux_x86_64.whl\n",
        "\n",
        "!git clone https://github.com/camenduru/stable-diffusion-webui\n",
        "!git clone https://github.com/deforum-art/deforum-for-automatic1111-webui /content/stable-diffusion-webui/extensions/deforum-for-automatic1111-webui\n",
        "!git clone https://github.com/yfszzx/stable-diffusion-webui-images-browser /content/stable-diffusion-webui/extensions/stable-diffusion-webui-images-browser\n",
        "%cd /content/stable-diffusion-webui\n",
        "\n",
        "!wget https://huggingface.co/Linaqruf/anything-v3.0/resolve/main/Anything-V3.0.ckpt -O /content/stable-diffusion-webui/models/Stable-diffusion/Anything-V3.0.ckpt\n",
        "!wget https://huggingface.co/Linaqruf/anything-v3.0/resolve/main/Anything-V3.0.vae.pt -O /content/stable-diffusion-webui/models/Stable-diffusion/Anything-V3.0.vae.pt\n",
        "\n",
        "!python launch.py --share --force-enable-xformers"
      ],
      "metadata": {
        "colab": {
          "base_uri": "https://localhost:8080/"
        },
        "id": "xkCN92sBCoXY",
        "outputId": "a5f9c122-ad09-4f76-f821-71426414a050"
      },
      "execution_count": 1,
      "outputs": [
        {
          "output_type": "stream",
          "name": "stdout",
          "text": [
            "\u001b[K     |███████████                     | 35.1 MB 12.1 MB/s eta 0:00:06\u001b[31mERROR: Exception:\n",
            "Traceback (most recent call last):\n",
            "  File \"/usr/local/lib/python3.8/dist-packages/pip/_internal/cli/base_command.py\", line 180, in _main\n",
            "    status = self.run(options, args)\n",
            "  File \"/usr/local/lib/python3.8/dist-packages/pip/_internal/cli/req_command.py\", line 199, in wrapper\n",
            "    return func(self, options, args)\n",
            "  File \"/usr/local/lib/python3.8/dist-packages/pip/_internal/commands/install.py\", line 318, in run\n",
            "    requirement_set = resolver.resolve(\n",
            "  File \"/usr/local/lib/python3.8/dist-packages/pip/_internal/resolution/resolvelib/resolver.py\", line 103, in resolve\n",
            "    r = self.factory.make_requirement_from_install_req(\n",
            "  File \"/usr/local/lib/python3.8/dist-packages/pip/_internal/resolution/resolvelib/factory.py\", line 429, in make_requirement_from_install_req\n",
            "    cand = self._make_candidate_from_link(\n",
            "  File \"/usr/local/lib/python3.8/dist-packages/pip/_internal/resolution/resolvelib/factory.py\", line 200, in _make_candidate_from_link\n",
            "    self._link_candidate_cache[link] = LinkCandidate(\n",
            "  File \"/usr/local/lib/python3.8/dist-packages/pip/_internal/resolution/resolvelib/candidates.py\", line 306, in __init__\n",
            "    super().__init__(\n",
            "  File \"/usr/local/lib/python3.8/dist-packages/pip/_internal/resolution/resolvelib/candidates.py\", line 151, in __init__\n",
            "    self.dist = self._prepare()\n",
            "  File \"/usr/local/lib/python3.8/dist-packages/pip/_internal/resolution/resolvelib/candidates.py\", line 234, in _prepare\n",
            "    dist = self._prepare_distribution()\n",
            "  File \"/usr/local/lib/python3.8/dist-packages/pip/_internal/resolution/resolvelib/candidates.py\", line 317, in _prepare_distribution\n",
            "    return self._factory.preparer.prepare_linked_requirement(\n",
            "  File \"/usr/local/lib/python3.8/dist-packages/pip/_internal/operations/prepare.py\", line 508, in prepare_linked_requirement\n",
            "    return self._prepare_linked_requirement(req, parallel_builds)\n",
            "  File \"/usr/local/lib/python3.8/dist-packages/pip/_internal/operations/prepare.py\", line 550, in _prepare_linked_requirement\n",
            "    local_file = unpack_url(\n",
            "  File \"/usr/local/lib/python3.8/dist-packages/pip/_internal/operations/prepare.py\", line 239, in unpack_url\n",
            "    file = get_http_url(\n",
            "  File \"/usr/local/lib/python3.8/dist-packages/pip/_internal/operations/prepare.py\", line 102, in get_http_url\n",
            "    from_path, content_type = download(link, temp_dir.path)\n",
            "  File \"/usr/local/lib/python3.8/dist-packages/pip/_internal/network/download.py\", line 157, in __call__\n",
            "    for chunk in chunks:\n",
            "  File \"/usr/local/lib/python3.8/dist-packages/pip/_internal/cli/progress_bars.py\", line 156, in iter\n",
            "    self.next(len(x))  # noqa: B305\n",
            "  File \"/usr/local/lib/python3.8/dist-packages/pip/_vendor/progress/__init__.py\", line 120, in next\n",
            "    self.update()\n",
            "  File \"/usr/local/lib/python3.8/dist-packages/pip/_vendor/progress/bar.py\", line 83, in update\n",
            "    self.writeln(line)\n",
            "  File \"/usr/local/lib/python3.8/dist-packages/pip/_vendor/progress/__init__.py\", line 101, in writeln\n",
            "    self.clearln()\n",
            "  File \"/usr/local/lib/python3.8/dist-packages/pip/_vendor/progress/__init__.py\", line 90, in clearln\n",
            "    print('\\r\\x1b[K', end='', file=self.file)\n",
            "  File \"/usr/local/lib/python3.8/dist-packages/pip/_internal/cli/progress_bars.py\", line 99, in handle_sigint\n",
            "    def handle_sigint(self, signum, frame):  # type: ignore\n",
            "  File \"/usr/local/lib/python3.8/dist-packages/pip/_internal/cli/progress_bars.py\", line 106, in handle_sigint\n",
            "    self.finish()\n",
            "  File \"/usr/local/lib/python3.8/dist-packages/pip/_internal/cli/progress_bars.py\", line 96, in finish\n",
            "    super().finish()  # type: ignore\n",
            "  File \"/usr/local/lib/python3.8/dist-packages/pip/_vendor/progress/__init__.py\", line 107, in finish\n",
            "    print(file=self.file)\n",
            "RuntimeError: reentrant call inside <_io.BufferedWriter name='<stdout>'>\u001b[0m\n",
            "\u001b[KCloning into 'stable-diffusion-webui'...\n",
            "remote: Enumerating objects: 11685, done.\u001b[K\n",
            "remote: Total 11685 (delta 0), reused 0 (delta 0), pack-reused 11685\u001b[K\n",
            "Receiving objects: 100% (11685/11685), 23.99 MiB | 25.72 MiB/s, done.\n",
            "Resolving deltas: 100% (8171/8171), done.\n",
            "Cloning into '/content/stable-diffusion-webui/extensions/deforum-for-automatic1111-webui'...\n",
            "remote: Enumerating objects: 3249, done.\u001b[K\n",
            "remote: Counting objects: 100% (571/571), done.\u001b[K\n",
            "remote: Compressing objects: 100% (135/135), done.\u001b[K\n",
            "remote: Total 3249 (delta 500), reused 484 (delta 436), pack-reused 2678\u001b[K\n",
            "Receiving objects: 100% (3249/3249), 71.97 MiB | 26.62 MiB/s, done.\n",
            "Resolving deltas: 100% (1930/1930), done.\n",
            "Cloning into '/content/stable-diffusion-webui/extensions/stable-diffusion-webui-images-browser'...\n",
            "remote: Enumerating objects: 123, done.\u001b[K\n",
            "remote: Counting objects: 100% (123/123), done.\u001b[K\n",
            "remote: Compressing objects: 100% (73/73), done.\u001b[K\n",
            "remote: Total 123 (delta 44), reused 68 (delta 25), pack-reused 0\u001b[K\n",
            "Receiving objects: 100% (123/123), 34.08 KiB | 1.89 MiB/s, done.\n",
            "Resolving deltas: 100% (44/44), done.\n",
            "/content/stable-diffusion-webui\n",
            "--2022-12-08 23:21:09--  https://huggingface.co/Linaqruf/anything-v3.0/resolve/main/Anything-V3.0.ckpt\n",
            "Resolving huggingface.co (huggingface.co)... 3.234.187.147, 54.147.99.175, 2600:1f18:147f:e850:d78f:7d9d:6ec3:2aee, ...\n",
            "Connecting to huggingface.co (huggingface.co)|3.234.187.147|:443... connected.\n",
            "HTTP request sent, awaiting response... 302 Found\n",
            "Location: https://cdn-lfs.huggingface.co/repos/1e/ef/1eefd55077badc87cd1798672a058b8d55aeab58e781be883f2ec0e0917679e3/8712e20a5d65b6acaa743e8a74961eadfdf846a2c9a32160d80a80cba13ad475?response-content-disposition=attachment%3B%20filename%3D%22Anything-V3.0.ckpt%22&Expires=1670795502&Policy=eyJTdGF0ZW1lbnQiOlt7IlJlc291cmNlIjoiaHR0cHM6Ly9jZG4tbGZzLmh1Z2dpbmdmYWNlLmNvL3JlcG9zLzFlL2VmLzFlZWZkNTUwNzdiYWRjODdjZDE3OTg2NzJhMDU4YjhkNTVhZWFiNThlNzgxYmU4ODNmMmVjMGUwOTE3Njc5ZTMvODcxMmUyMGE1ZDY1YjZhY2FhNzQzZThhNzQ5NjFlYWRmZGY4NDZhMmM5YTMyMTYwZDgwYTgwY2JhMTNhZDQ3NT9yZXNwb25zZS1jb250ZW50LWRpc3Bvc2l0aW9uPWF0dGFjaG1lbnQlM0IlMjBmaWxlbmFtZSUzRCUyMkFueXRoaW5nLVYzLjAuY2twdCUyMiIsIkNvbmRpdGlvbiI6eyJEYXRlTGVzc1RoYW4iOnsiQVdTOkVwb2NoVGltZSI6MTY3MDc5NTUwMn19fV19&Signature=maJ9KrSKk~VZq1vq1oaMVX01uw1bMaiL29X0OnimHUxFripon2q928hPmvhrkoQh0qxpFz25eVLtoPmPvI4k~zCBdpxKSu7kgwCJo2UYXnVitlH7u63qXeTFpNkapHM~xrUNeN2B3sjYmorazDzf1HqZ1tpPum6a4YTiPGGS-mbaSI7symkw6ldYPKs3kPNtoQIFhA-Zxsbw2xXWkUYHH8WqMjnfGsWxX8Snflfd2Iyq9ACeBzv0teoD8G3R~sOXtUXuhUNUCbCMkkRDOrOQma9C40~E8DsS4cj5ClwZnD8xaovkzohO6H~DVVN74tao2FNUx~T1dVCmipQ3p8SVIg__&Key-Pair-Id=KVTP0A1DKRTAX [following]\n",
            "--2022-12-08 23:21:09--  https://cdn-lfs.huggingface.co/repos/1e/ef/1eefd55077badc87cd1798672a058b8d55aeab58e781be883f2ec0e0917679e3/8712e20a5d65b6acaa743e8a74961eadfdf846a2c9a32160d80a80cba13ad475?response-content-disposition=attachment%3B%20filename%3D%22Anything-V3.0.ckpt%22&Expires=1670795502&Policy=eyJTdGF0ZW1lbnQiOlt7IlJlc291cmNlIjoiaHR0cHM6Ly9jZG4tbGZzLmh1Z2dpbmdmYWNlLmNvL3JlcG9zLzFlL2VmLzFlZWZkNTUwNzdiYWRjODdjZDE3OTg2NzJhMDU4YjhkNTVhZWFiNThlNzgxYmU4ODNmMmVjMGUwOTE3Njc5ZTMvODcxMmUyMGE1ZDY1YjZhY2FhNzQzZThhNzQ5NjFlYWRmZGY4NDZhMmM5YTMyMTYwZDgwYTgwY2JhMTNhZDQ3NT9yZXNwb25zZS1jb250ZW50LWRpc3Bvc2l0aW9uPWF0dGFjaG1lbnQlM0IlMjBmaWxlbmFtZSUzRCUyMkFueXRoaW5nLVYzLjAuY2twdCUyMiIsIkNvbmRpdGlvbiI6eyJEYXRlTGVzc1RoYW4iOnsiQVdTOkVwb2NoVGltZSI6MTY3MDc5NTUwMn19fV19&Signature=maJ9KrSKk~VZq1vq1oaMVX01uw1bMaiL29X0OnimHUxFripon2q928hPmvhrkoQh0qxpFz25eVLtoPmPvI4k~zCBdpxKSu7kgwCJo2UYXnVitlH7u63qXeTFpNkapHM~xrUNeN2B3sjYmorazDzf1HqZ1tpPum6a4YTiPGGS-mbaSI7symkw6ldYPKs3kPNtoQIFhA-Zxsbw2xXWkUYHH8WqMjnfGsWxX8Snflfd2Iyq9ACeBzv0teoD8G3R~sOXtUXuhUNUCbCMkkRDOrOQma9C40~E8DsS4cj5ClwZnD8xaovkzohO6H~DVVN74tao2FNUx~T1dVCmipQ3p8SVIg__&Key-Pair-Id=KVTP0A1DKRTAX\n",
            "Resolving cdn-lfs.huggingface.co (cdn-lfs.huggingface.co)... 18.154.185.94, 18.154.185.26, 18.154.185.64, ...\n",
            "Connecting to cdn-lfs.huggingface.co (cdn-lfs.huggingface.co)|18.154.185.94|:443... connected.\n",
            "HTTP request sent, awaiting response... 200 OK\n",
            "Length: 7703657858 (7.2G) [binary/octet-stream]\n",
            "Saving to: ‘/content/stable-diffusion-webui/models/Stable-diffusion/Anything-V3.0.ckpt’\n",
            "\n",
            "    /content/stable   1%[                    ] 131.95M   110MB/s               ^C\n",
            "--2022-12-08 23:21:11--  https://huggingface.co/Linaqruf/anything-v3.0/resolve/main/Anything-V3.0.vae.pt\n",
            "Resolving huggingface.co (huggingface.co)... 3.234.187.147, 54.147.99.175, 2600:1f18:147f:e850:d78f:7d9d:6ec3:2aee, ...\n",
            "Connecting to huggingface.co (huggingface.co)|3.234.187.147|:443... connected.\n",
            "HTTP request sent, awaiting response... 302 Found\n",
            "Location: https://cdn-lfs.huggingface.co/repos/1e/ef/1eefd55077badc87cd1798672a058b8d55aeab58e781be883f2ec0e0917679e3/f921fb3f29891d2a77a6571e56b8b5052420d2884129517a333c60b1b4816cdf?response-content-disposition=attachment%3B%20filename%3D%22Anything-V3.0.vae.pt%22&Expires=1670789371&Policy=eyJTdGF0ZW1lbnQiOlt7IlJlc291cmNlIjoiaHR0cHM6Ly9jZG4tbGZzLmh1Z2dpbmdmYWNlLmNvL3JlcG9zLzFlL2VmLzFlZWZkNTUwNzdiYWRjODdjZDE3OTg2NzJhMDU4YjhkNTVhZWFiNThlNzgxYmU4ODNmMmVjMGUwOTE3Njc5ZTMvZjkyMWZiM2YyOTg5MWQyYTc3YTY1NzFlNTZiOGI1MDUyNDIwZDI4ODQxMjk1MTdhMzMzYzYwYjFiNDgxNmNkZj9yZXNwb25zZS1jb250ZW50LWRpc3Bvc2l0aW9uPWF0dGFjaG1lbnQlM0IlMjBmaWxlbmFtZSUzRCUyMkFueXRoaW5nLVYzLjAudmFlLnB0JTIyIiwiQ29uZGl0aW9uIjp7IkRhdGVMZXNzVGhhbiI6eyJBV1M6RXBvY2hUaW1lIjoxNjcwNzg5MzcxfX19XX0_&Signature=PsBfgw8tQ6LD64EBeLyf2WxTyyeWlhufRO49IMPEeibyoDXYxstLAKA20b55Vl0jCPk~WX0LaERje6KF7LR977r85ZQpa~X~QYHMlwXGPc0NXh-g4-ZuzJO9coM6URy~z22gtDR-T4U0C3M~02iD71pYF0d9jEMcRIKx5SBhIcDAwWkhXB~iDhit5MPNp0toLuR3F6jzfDcriopX72G~gz6J-fxYTY-tppDvB081uxCPmfXtZ3Q3oJGSU8fQZLD1TePsh0mbQWF6d2uoDGzFUjaCN0uiPdIMPCE1z0eWHQWcsb9CSAnVm3VFMKWFW0dFbzdhJ2Dqf~d9jpkaj74NMQ__&Key-Pair-Id=KVTP0A1DKRTAX [following]\n",
            "--2022-12-08 23:21:11--  https://cdn-lfs.huggingface.co/repos/1e/ef/1eefd55077badc87cd1798672a058b8d55aeab58e781be883f2ec0e0917679e3/f921fb3f29891d2a77a6571e56b8b5052420d2884129517a333c60b1b4816cdf?response-content-disposition=attachment%3B%20filename%3D%22Anything-V3.0.vae.pt%22&Expires=1670789371&Policy=eyJTdGF0ZW1lbnQiOlt7IlJlc291cmNlIjoiaHR0cHM6Ly9jZG4tbGZzLmh1Z2dpbmdmYWNlLmNvL3JlcG9zLzFlL2VmLzFlZWZkNTUwNzdiYWRjODdjZDE3OTg2NzJhMDU4YjhkNTVhZWFiNThlNzgxYmU4ODNmMmVjMGUwOTE3Njc5ZTMvZjkyMWZiM2YyOTg5MWQyYTc3YTY1NzFlNTZiOGI1MDUyNDIwZDI4ODQxMjk1MTdhMzMzYzYwYjFiNDgxNmNkZj9yZXNwb25zZS1jb250ZW50LWRpc3Bvc2l0aW9uPWF0dGFjaG1lbnQlM0IlMjBmaWxlbmFtZSUzRCUyMkFueXRoaW5nLVYzLjAudmFlLnB0JTIyIiwiQ29uZGl0aW9uIjp7IkRhdGVMZXNzVGhhbiI6eyJBV1M6RXBvY2hUaW1lIjoxNjcwNzg5MzcxfX19XX0_&Signature=PsBfgw8tQ6LD64EBeLyf2WxTyyeWlhufRO49IMPEeibyoDXYxstLAKA20b55Vl0jCPk~WX0LaERje6KF7LR977r85ZQpa~X~QYHMlwXGPc0NXh-g4-ZuzJO9coM6URy~z22gtDR-T4U0C3M~02iD71pYF0d9jEMcRIKx5SBhIcDAwWkhXB~iDhit5MPNp0toLuR3F6jzfDcriopX72G~gz6J-fxYTY-tppDvB081uxCPmfXtZ3Q3oJGSU8fQZLD1TePsh0mbQWF6d2uoDGzFUjaCN0uiPdIMPCE1z0eWHQWcsb9CSAnVm3VFMKWFW0dFbzdhJ2Dqf~d9jpkaj74NMQ__&Key-Pair-Id=KVTP0A1DKRTAX\n",
            "Resolving cdn-lfs.huggingface.co (cdn-lfs.huggingface.co)... 18.154.185.94, 18.154.185.26, 18.154.185.64, ...\n",
            "Connecting to cdn-lfs.huggingface.co (cdn-lfs.huggingface.co)|18.154.185.94|:443... connected.\n",
            "HTTP request sent, awaiting response... 200 OK\n",
            "Length: 822802803 (785M) [binary/octet-stream]\n",
            "Saving to: ‘/content/stable-diffusion-webui/models/Stable-diffusion/Anything-V3.0.vae.pt’\n",
            "\n",
            "/content/stable-dif 100%[===================>] 784.69M   180MB/s    in 4.9s    \n",
            "\n",
            "2022-12-08 23:21:16 (159 MB/s) - ‘/content/stable-diffusion-webui/models/Stable-diffusion/Anything-V3.0.vae.pt’ saved [822802803/822802803]\n",
            "\n",
            "Python 3.8.16 (default, Dec  7 2022, 01:12:13) \n",
            "[GCC 7.5.0]\n",
            "Commit hash: 8504db51704d238cc7616f6bf59eb049d3eb101d\n",
            "Traceback (most recent call last):\n",
            "  File \"launch.py\", line 294, in <module>\n",
            "    prepare_enviroment()\n",
            "  File \"launch.py\", line 209, in prepare_enviroment\n",
            "    run_python(\"import torch; assert torch.cuda.is_available(), 'Torch is not able to use GPU; add --skip-torch-cuda-test to COMMANDLINE_ARGS variable to disable this check'\")\n",
            "  File \"launch.py\", line 73, in run_python\n",
            "    return run(f'\"{python}\" -c \"{code}\"', desc, errdesc)\n",
            "  File \"launch.py\", line 49, in run\n",
            "    raise RuntimeError(message)\n",
            "RuntimeError: Error running command.\n",
            "Command: \"/usr/bin/python3\" -c \"import torch; assert torch.cuda.is_available(), 'Torch is not able to use GPU; add --skip-torch-cuda-test to COMMANDLINE_ARGS variable to disable this check'\"\n",
            "Error code: 1\n",
            "stdout: <empty>\n",
            "stderr: Traceback (most recent call last):\n",
            "  File \"<string>\", line 1, in <module>\n",
            "AssertionError: Torch is not able to use GPU; add --skip-torch-cuda-test to COMMANDLINE_ARGS variable to disable this check\n",
            "\n",
            "\n"
          ]
        }
      ]
    }
  ]
}