{
  "cells": [
    {
      "cell_type": "markdown",
      "metadata": {
        "id": "view-in-github",
        "colab_type": "text"
      },
      "source": [
        "<a href=\"https://colab.research.google.com/github/daxzy-ai/SD-Anime-versions-webui/blob/main/naifu_novel_ai_leaks_webui_colab.ipynb\" target=\"_parent\"><img src=\"https://colab.research.google.com/assets/colab-badge.svg\" alt=\"Open In Colab\"/></a>"
      ]
    },
    {
      "cell_type": "markdown",
      "metadata": {
        "id": "KZ88G-iWCTs7"
      },
      "source": [
        "# NovelAILeaks(Naifu) webui colab"
      ]
    },
    {
      "cell_type": "code",
      "execution_count": null,
      "metadata": {
        "colab": {
          "base_uri": "https://localhost:8080/"
        },
        "id": "X5yF8TS1CR3L",
        "outputId": "ca31cf99-aa45-456d-ef40-0058a5a78f6b"
      },
      "outputs": [
        {
          "name": "stdout",
          "output_type": "stream",
          "text": [
            "Mon Dec 12 04:02:34 2022       \n",
            "+-----------------------------------------------------------------------------+\n",
            "| NVIDIA-SMI 460.32.03    Driver Version: 460.32.03    CUDA Version: 11.2     |\n",
            "|-------------------------------+----------------------+----------------------+\n",
            "| GPU  Name        Persistence-M| Bus-Id        Disp.A | Volatile Uncorr. ECC |\n",
            "| Fan  Temp  Perf  Pwr:Usage/Cap|         Memory-Usage | GPU-Util  Compute M. |\n",
            "|                               |                      |               MIG M. |\n",
            "|===============================+======================+======================|\n",
            "|   0  Tesla T4            Off  | 00000000:00:04.0 Off |                    0 |\n",
            "| N/A   62C    P0    27W /  70W |      0MiB / 15109MiB |      0%      Default |\n",
            "|                               |                      |                  N/A |\n",
            "+-------------------------------+----------------------+----------------------+\n",
            "                                                                               \n",
            "+-----------------------------------------------------------------------------+\n",
            "| Processes:                                                                  |\n",
            "|  GPU   GI   CI        PID   Type   Process name                  GPU Memory |\n",
            "|        ID   ID                                                   Usage      |\n",
            "|=============================================================================|\n",
            "|  No running processes found                                                 |\n",
            "+-----------------------------------------------------------------------------+\n"
          ]
        }
      ],
      "source": [
        "#@title ### 0. Check GPU working status\n",
        "\n",
        "!nvidia-smi"
      ]
    },
    {
      "cell_type": "code",
      "execution_count": null,
      "metadata": {
        "colab": {
          "base_uri": "https://localhost:8080/"
        },
        "id": "iqTO_Uf3F6VW",
        "outputId": "2512dd7c-3950-481d-a3b5-b8802b489678"
      },
      "outputs": [
        {
          "output_type": "stream",
          "name": "stdout",
          "text": [
            "/content\n",
            "aria2 is already the newest version (1.33.1-1).\n",
            "The following package was automatically installed and is no longer required:\n",
            "  libnvidia-common-460\n",
            "Use 'apt autoremove' to remove it.\n",
            "0 upgraded, 0 newly installed, 0 to remove and 20 not upgraded.\n",
            "\n",
            "12/12 21:00:46 [\u001b[1;32mNOTICE\u001b[0m] Downloading 1 item(s)\n",
            "\n",
            "12/12 21:00:47 [\u001b[1;32mNOTICE\u001b[0m] CUID#7 - Redirecting to https://cdn-lfs.huggingface.co/repos/1e/ef/1eefd55077badc87cd1798672a058b8d55aeab58e781be883f2ec0e0917679e3/67a115286b56c086b36e323cfef32d7e3afbe20c750c4386a238a11feb6872f7?response-content-disposition=attachment%3B%20filename%3D%22Anything-V3.0-pruned-fp32.ckpt%22&Expires=1671135447&Policy=eyJTdGF0ZW1lbnQiOlt7IlJlc291cmNlIjoiaHR0cHM6Ly9jZG4tbGZzLmh1Z2dpbmdmYWNlLmNvL3JlcG9zLzFlL2VmLzFlZWZkNTUwNzdiYWRjODdjZDE3OTg2NzJhMDU4YjhkNTVhZWFiNThlNzgxYmU4ODNmMmVjMGUwOTE3Njc5ZTMvNjdhMTE1Mjg2YjU2YzA4NmIzNmUzMjNjZmVmMzJkN2UzYWZiZTIwYzc1MGM0Mzg2YTIzOGExMWZlYjY4NzJmNz9yZXNwb25zZS1jb250ZW50LWRpc3Bvc2l0aW9uPWF0dGFjaG1lbnQlM0IlMjBmaWxlbmFtZSUzRCUyMkFueXRoaW5nLVYzLjAtcHJ1bmVkLWZwMzIuY2twdCUyMiIsIkNvbmRpdGlvbiI6eyJEYXRlTGVzc1RoYW4iOnsiQVdTOkVwb2NoVGltZSI6MTY3MTEzNTQ0N319fV19&Signature=WVzHJIhXbdj3SRa5HN74plRaBzkc5XkEEIGX2z5TH8FDF3SkGz2WcnTIQQ~SyPltM3YuJ0L67-g81g2~ki9W~I7WR9-yX9vRw~hdKOBxwqRhTvNis2OP9EMxD8NQjSYAHi2Gkhf-9V8Ae4apG7RhxA1LG~PV01ygxy7sdmOsNZi5FwqGI6hvASzXxK-gFmhZ9p5rG1dvYeqkxYHRIKCjOno8q~pa2sLPa4UsPGiUdFlVLMcyisuoK2CbDpKizJzbWI9v0ZoSs67SQg~GDVyBLt4z4-ytn52mWZHoWliEW0i0xl6asQcEmCWxtmyxFztJMQdCPyAI1mlW5YXF-OQO-w__&Key-Pair-Id=KVTP0A1DKRTAX\n",
            "\u001b[0m\n",
            "12/12 21:00:47 [\u001b[1;32mNOTICE\u001b[0m] CUID#9 - Redirecting to https://cdn-lfs.huggingface.co/repos/1e/ef/1eefd55077badc87cd1798672a058b8d55aeab58e781be883f2ec0e0917679e3/67a115286b56c086b36e323cfef32d7e3afbe20c750c4386a238a11feb6872f7?response-content-disposition=attachment%3B%20filename%3D%22Anything-V3.0-pruned-fp32.ckpt%22&Expires=1671136692&Policy=eyJTdGF0ZW1lbnQiOlt7IlJlc291cmNlIjoiaHR0cHM6Ly9jZG4tbGZzLmh1Z2dpbmdmYWNlLmNvL3JlcG9zLzFlL2VmLzFlZWZkNTUwNzdiYWRjODdjZDE3OTg2NzJhMDU4YjhkNTVhZWFiNThlNzgxYmU4ODNmMmVjMGUwOTE3Njc5ZTMvNjdhMTE1Mjg2YjU2YzA4NmIzNmUzMjNjZmVmMzJkN2UzYWZiZTIwYzc1MGM0Mzg2YTIzOGExMWZlYjY4NzJmNz9yZXNwb25zZS1jb250ZW50LWRpc3Bvc2l0aW9uPWF0dGFjaG1lbnQlM0IlMjBmaWxlbmFtZSUzRCUyMkFueXRoaW5nLVYzLjAtcHJ1bmVkLWZwMzIuY2twdCUyMiIsIkNvbmRpdGlvbiI6eyJEYXRlTGVzc1RoYW4iOnsiQVdTOkVwb2NoVGltZSI6MTY3MTEzNjY5Mn19fV19&Signature=v0MdmQIQwSDG8t~PDz48rP1WuYWy5OpzdixMhhEt9AvVcp9GOkP4zEBYmnagdhvTjq5RRAO0PvuVSCU0M71GwhujFXGVZMlWxg~JH94Ts-gPCsOey6bkEBRBRuUllM07cBFYnWtRzBU~f0fv1dA1y27umZtgHHYg5PfOPJ-YeKwr5UwvfMD8S98zYCgnsh7b4XyFRyd-8AM2AK8hAoefTH6dEF-yjgRom8OGkQ0xvJl2RZIq8gOQbgY7N-C-qDAvlEhR~7X8yiz5ai3NwheZlFs9pmjxF6wFQbDTzydtawmQrQilOabobI16wEElHuvk-ESPOA6waiqWgwZf1E2S~g__&Key-Pair-Id=KVTP0A1DKRTAX\n",
            "\n",
            "12/12 21:00:48 [\u001b[1;32mNOTICE\u001b[0m] CUID#10 - Redirecting to https://cdn-lfs.huggingface.co/repos/1e/ef/1eefd55077badc87cd1798672a058b8d55aeab58e781be883f2ec0e0917679e3/67a115286b56c086b36e323cfef32d7e3afbe20c750c4386a238a11feb6872f7?response-content-disposition=attachment%3B%20filename%3D%22Anything-V3.0-pruned-fp32.ckpt%22&Expires=1671136059&Policy=eyJTdGF0ZW1lbnQiOlt7IlJlc291cmNlIjoiaHR0cHM6Ly9jZG4tbGZzLmh1Z2dpbmdmYWNlLmNvL3JlcG9zLzFlL2VmLzFlZWZkNTUwNzdiYWRjODdjZDE3OTg2NzJhMDU4YjhkNTVhZWFiNThlNzgxYmU4ODNmMmVjMGUwOTE3Njc5ZTMvNjdhMTE1Mjg2YjU2YzA4NmIzNmUzMjNjZmVmMzJkN2UzYWZiZTIwYzc1MGM0Mzg2YTIzOGExMWZlYjY4NzJmNz9yZXNwb25zZS1jb250ZW50LWRpc3Bvc2l0aW9uPWF0dGFjaG1lbnQlM0IlMjBmaWxlbmFtZSUzRCUyMkFueXRoaW5nLVYzLjAtcHJ1bmVkLWZwMzIuY2twdCUyMiIsIkNvbmRpdGlvbiI6eyJEYXRlTGVzc1RoYW4iOnsiQVdTOkVwb2NoVGltZSI6MTY3MTEzNjA1OX19fV19&Signature=b0xOy4Cj~cCjJ~c2EBT~rfOoPAI4NMwkRacB4BMO4tQJv6gR-OgsPgj95MpUKutvbkNYfOSWRZGna0vrX6o1Bl7RB81qb9W5-a14ipenQBzsON9nALPIhLj7bs0m3cBA-t41AzSHBvSIQ~XVWPDd7ddrGkrpvxbScEd7Ga6Hon8ttl6uK59Sabma1h~StqAhyGbFFqbRrGjsb1kcwAsn07fFEv5bLkEzwIu4Xb53UHmRg7nTpJT5N2q2eNmtvo8b1m3k~awsx9ve3aGUWkT1IqiAsOmFIOxVtamNe5QtV-kazROyLc8WnYZxhGlzJO7~KsggiTapoJS27X7yJWSnWg__&Key-Pair-Id=KVTP0A1DKRTAX\n",
            " *** Download Progress Summary as of Mon Dec 12 21:00:51 2022 *** \n",
            "=\n",
            "[#db3231 1.0GiB/3.9GiB(26%) CN:3 DL:267MiB ETA:11s]\n",
            "FILE: /content/Anything-V3.0-pruned-fp32.ckpt\n",
            "-\n",
            "\n",
            " *** Download Progress Summary as of Mon Dec 12 21:00:57 2022 *** \n",
            "=\n",
            "[#db3231 2.4GiB/3.9GiB(61%) CN:3 DL:250MiB ETA:6s]\n",
            "FILE: /content/Anything-V3.0-pruned-fp32.ckpt\n",
            "-\n",
            "\n",
            " *** Download Progress Summary as of Mon Dec 12 21:01:03 2022 *** \n",
            "=\n",
            "[#db3231 3.7GiB/3.9GiB(95%) CN:3 DL:236MiB]\n",
            "FILE: /content/Anything-V3.0-pruned-fp32.ckpt\n",
            "-\n",
            "\n",
            "\u001b[0m\n",
            "12/12 21:01:03 [\u001b[1;32mNOTICE\u001b[0m] Download complete: /content/Anything-V3.0-pruned-fp32.ckpt\n",
            "\n",
            "Download Results:\n",
            "gid   |stat|avg speed  |path/URI\n",
            "======+====+===========+=======================================================\n",
            "db3231|\u001b[1;32mOK\u001b[0m  |   246MiB/s|/content/Anything-V3.0-pruned-fp32.ckpt\n",
            "\n",
            "Status Legend:\n",
            "(OK):download completed.\n",
            "Decompressing...\n",
            "tar: This does not look like a tar archive\n",
            "tar: Skipping to next header\n",
            "tar: Archive contains ‘E\\006\\002\\275\\237c\\234\\274\\312&\\254=’ where numeric off_t value expected\n",
            "tar: Exiting with failure status due to previous errors\n",
            "Done.\n"
          ]
        }
      ],
      "source": [
        "#@title ### 1. Start Novel AI \n",
        "#@markdown If the download speed is too slow, try \n",
        "\n",
        "%cd /content/\n",
        "!apt install -y -qq aria2\n",
        "!aria2c --summary-interval=5 -x 3 --allow-overwrite=true -Z \\\n",
        "  https://pub-2fdef7a2969f43289c42ac5ae3412fd4.r2.dev/naifu.tar \\\n",
        "  https://pub-2fdef7a2969f43289c42ac5ae3412fd4.r2.dev/animefull-latest.tar \n",
        "  \n",
        "!echo \"Decompressing...\"\n",
        "!tar xf naifu.tar && rm naifu.tar\n",
        "!echo \"Done.\""
      ]
    },
    {
      "cell_type": "code",
      "execution_count": null,
      "metadata": {
        "colab": {
          "base_uri": "https://localhost:8080/"
        },
        "id": "BysBfYRmGSo1",
        "outputId": "bdcf7f48-3ea7-44b7-b2d1-387890ec646b"
      },
      "outputs": [
        {
          "output_type": "stream",
          "name": "stdout",
          "text": [
            "[Errno 2] No such file or directory: '/content/naifu'\n",
            "/content\n",
            "Looking in indexes: https://pypi.org/simple, https://us-python.pkg.dev/colab-wheels/public/simple/\n",
            "Collecting virtualenv\n",
            "  Downloading virtualenv-20.17.1-py3-none-any.whl (8.8 MB)\n",
            "\u001b[K     |████████████████████████████████| 8.8 MB 33.0 MB/s \n",
            "\u001b[?25hCollecting distlib<1,>=0.3.6\n",
            "  Downloading distlib-0.3.6-py2.py3-none-any.whl (468 kB)\n",
            "\u001b[K     |████████████████████████████████| 468 kB 65.1 MB/s \n",
            "\u001b[?25hRequirement already satisfied: filelock<4,>=3.4.1 in /usr/local/lib/python3.8/dist-packages (from virtualenv) (3.8.0)\n",
            "Requirement already satisfied: platformdirs<3,>=2.4 in /usr/local/lib/python3.8/dist-packages (from virtualenv) (2.5.4)\n",
            "Installing collected packages: distlib, virtualenv\n",
            "Successfully installed distlib-0.3.6 virtualenv-20.17.1\n",
            "bash: ./setup.sh: No such file or directory\n",
            "  % Total    % Received % Xferd  Average Speed   Time    Time     Time  Current\n",
            "                                 Dload  Upload   Total   Spent    Left  Speed\n",
            "  0     0    0     0    0     0      0      0 --:--:-- --:--:-- --:--:--     0\n",
            "  0     0    0     0    0     0      0      0 --:--:-- --:--:-- --:--:--     0\n",
            "100 33.6M  100 33.6M    0     0  90.5M      0 --:--:-- --:--:-- --:--:-- 90.5M\n",
            "/bin/bash: /content/naifu/venv/bin/python: No such file or directory\n"
          ]
        }
      ],
      "source": [
        "#@title ### 2. Install dependencies\n",
        "#@markdown Wait patiently for the installation to complete\n",
        "\n",
        "%cd /content/naifu\n",
        "!pip install virtualenv && bash ./setup.sh\n",
        "!curl -Ls https://github.com/ekzhang/bore/releases/download/v0.4.0/bore-v0.4.0-x86_64-unknown-linux-musl.tar.gz | tar zx -C /usr/bin\n",
        "!curl -Lo /usr/bin/cloudflared https://github.com/cloudflare/cloudflared/releases/latest/download/cloudflared-linux-amd64 && chmod +x /usr/bin/cloudflared\n",
        "!/content/naifu/venv/bin/python -m pip install -qq pytorch_lightning==1.7.7"
      ]
    },
    {
      "cell_type": "code",
      "execution_count": null,
      "metadata": {
        "colab": {
          "base_uri": "https://localhost:8080/"
        },
        "id": "uQBR9zXQGJrn",
        "outputId": "96e44572-649d-4b3b-dafb-5253ef184786"
      },
      "outputs": [
        {
          "name": "stdout",
          "output_type": "stream",
          "text": [
            "/content/naifu\n",
            "\u001b[2m2022-12-10T18:50:58.157143Z\u001b[0m \u001b[32m INFO\u001b[0m \u001b[2mbore_cli::client\u001b[0m\u001b[2m:\u001b[0m connected to server \u001b[3mremote_port\u001b[0m\u001b[2m=\u001b[0m46815\n",
            "\u001b[2m2022-12-10T18:50:58.157297Z\u001b[0m \u001b[32m INFO\u001b[0m \u001b[2mbore_cli::client\u001b[0m\u001b[2m:\u001b[0m listening at bore.pub:46815\n",
            "\u001b[90m2022-12-10T18:50:58Z\u001b[0m \u001b[32mINF\u001b[0m Thank you for trying Cloudflare Tunnel. Doing so, without a Cloudflare account, is a quick way to experiment and try it out. However, be aware that these account-less Tunnels have no uptime guarantee. If you intend to use Tunnels in production you should use a pre-created named tunnel by following: https://developers.cloudflare.com/cloudflare-one/connections/connect-apps\n",
            "\u001b[90m2022-12-10T18:50:58Z\u001b[0m \u001b[32mINF\u001b[0m Requesting new quick Tunnel on trycloudflare.com...\n",
            "\u001b[90m2022-12-10T18:51:00Z\u001b[0m \u001b[32mINF\u001b[0m +--------------------------------------------------------------------------------------------+\n",
            "\u001b[90m2022-12-10T18:51:00Z\u001b[0m \u001b[32mINF\u001b[0m |  Your quick Tunnel has been created! Visit it at (it may take some time to be reachable):  |\n",
            "\u001b[90m2022-12-10T18:51:00Z\u001b[0m \u001b[32mINF\u001b[0m |  https://myth-firefox-complete-thanksgiving.trycloudflare.com                              |\n",
            "\u001b[90m2022-12-10T18:51:00Z\u001b[0m \u001b[32mINF\u001b[0m +--------------------------------------------------------------------------------------------+\n",
            "\u001b[90m2022-12-10T18:51:00Z\u001b[0m \u001b[32mINF\u001b[0m Cannot determine default configuration path. No file [config.yml config.yaml] in [~/.cloudflared ~/.cloudflare-warp ~/cloudflare-warp /etc/cloudflared /usr/local/etc/cloudflared]\n",
            "\u001b[90m2022-12-10T18:51:00Z\u001b[0m \u001b[32mINF\u001b[0m Version 2022.11.1\n",
            "\u001b[90m2022-12-10T18:51:00Z\u001b[0m \u001b[32mINF\u001b[0m GOOS: linux, GOVersion: go1.19.3, GoArch: amd64\n",
            "\u001b[90m2022-12-10T18:51:00Z\u001b[0m \u001b[32mINF\u001b[0m Settings: map[protocol:quic url:localhost:6969]\n",
            "\u001b[90m2022-12-10T18:51:00Z\u001b[0m \u001b[32mINF\u001b[0m Generated Connector ID: 35b60401-98d5-4f11-9e2e-12dc8d9695a4\n",
            "\u001b[90m2022-12-10T18:51:00Z\u001b[0m \u001b[32mINF\u001b[0m cloudflared will not automatically update when run from the shell. To enable auto-updates, run cloudflared as a service: https://developers.cloudflare.com/cloudflare-one/connections/connect-apps/run-tunnel/as-a-service/\n",
            "\u001b[90m2022-12-10T18:51:00Z\u001b[0m \u001b[32mINF\u001b[0m Initial protocol quic\n",
            "\u001b[90m2022-12-10T18:51:00Z\u001b[0m \u001b[32mINF\u001b[0m ICMP proxy will use 172.28.0.12 as source for IPv4\n",
            "\u001b[90m2022-12-10T18:51:00Z\u001b[0m \u001b[32mINF\u001b[0m ICMP proxy will use :: as source for IPv6\n",
            "\u001b[90m2022-12-10T18:51:00Z\u001b[0m \u001b[31mWRN\u001b[0m The user running cloudflared process has a GID (group ID) that is not within ping_group_range. You might need to add that user to a group within that range, or instead update the range to encompass a group the user is already in by modifying /proc/sys/net/ipv4/ping_group_range. Otherwise cloudflared will not be able to ping this network \u001b[31merror=\u001b[0m\u001b[31m\"Group ID 0 is not between ping group 1 to 0\"\u001b[0m\n",
            "\u001b[90m2022-12-10T18:51:00Z\u001b[0m \u001b[31mWRN\u001b[0m ICMP proxy feature is disabled \u001b[31merror=\u001b[0m\u001b[31m\"cannot create ICMPv4 proxy: Group ID 0 is not between ping group 1 to 0 nor ICMPv6 proxy: socket: permission denied\"\u001b[0m\n",
            "\u001b[90m2022-12-10T18:51:00Z\u001b[0m \u001b[32mINF\u001b[0m Starting metrics server on 127.0.0.1:45697/metrics\n",
            "2022/12/10 18:51:00 failed to sufficiently increase receive buffer size (was: 208 kiB, wanted: 2048 kiB, got: 416 kiB). See https://github.com/lucas-clemente/quic-go/wiki/UDP-Receive-Buffer-Size for details.\n",
            "Starting Hydra Node HTTP TOKEN=None\n",
            "2022-12-10 18:51:00,866 INFO config.py(543) - CPU: Intel(R) Xeon(R) CPU @ 2.30GHz\n",
            "2022-12-10 18:51:00,867 INFO config.py(543) - GPU: Tesla T4\n",
            "2022-12-10 18:51:00,867 INFO config.py(543) - GPU RAM: 15gb\n",
            "2022-12-10 18:51:00,867 INFO config.py(543) - MODEL: stable-diffusion\n",
            "2022-12-10 18:51:00,867 INFO models.py(543) - Loading model from folder models/animefull-final-pruned\n",
            "\u001b[90m2022-12-10T18:51:00Z\u001b[0m \u001b[1m\u001b[31mERR\u001b[0m\u001b[0m Failed to serve quic connection \u001b[31merror=\u001b[0m\u001b[31m\"Unauthorized: Failed to get tunnel\"\u001b[0m \u001b[36mconnIndex=\u001b[0m0 \u001b[36mip=\u001b[0m198.41.200.73\n",
            "\u001b[90m2022-12-10T18:51:00Z\u001b[0m \u001b[1m\u001b[31mERR\u001b[0m\u001b[0m Register tunnel error from server side \u001b[31merror=\u001b[0m\u001b[31m\"Unauthorized: Failed to get tunnel\"\u001b[0m \u001b[36mconnIndex=\u001b[0m0 \u001b[36mip=\u001b[0m198.41.200.73\n",
            "Loading model from models/animefull-final-pruned/model.ckpt\n",
            "\u001b[90m2022-12-10T18:51:01Z\u001b[0m \u001b[32mINF\u001b[0m Retrying connection in up to 2s \u001b[36mconnIndex=\u001b[0m0 \u001b[36mip=\u001b[0m198.41.200.73\n",
            "\u001b[90m2022-12-10T18:51:01Z\u001b[0m \u001b[1m\u001b[31mERR\u001b[0m\u001b[0m Failed to serve quic connection \u001b[31merror=\u001b[0m\u001b[31m\"Unauthorized: Failed to get tunnel\"\u001b[0m \u001b[36mconnIndex=\u001b[0m0 \u001b[36mip=\u001b[0m198.41.200.73\n",
            "\u001b[90m2022-12-10T18:51:01Z\u001b[0m \u001b[1m\u001b[31mERR\u001b[0m\u001b[0m Register tunnel error from server side \u001b[31merror=\u001b[0m\u001b[31m\"Unauthorized: Failed to get tunnel\"\u001b[0m \u001b[36mconnIndex=\u001b[0m0 \u001b[36mip=\u001b[0m198.41.200.73\n",
            "\u001b[90m2022-12-10T18:51:01Z\u001b[0m \u001b[32mINF\u001b[0m Retrying connection in up to 4s \u001b[36mconnIndex=\u001b[0m0 \u001b[36mip=\u001b[0m198.41.200.73\n",
            "\u001b[90m2022-12-10T18:51:05Z\u001b[0m \u001b[1m\u001b[31mERR\u001b[0m\u001b[0m Failed to serve quic connection \u001b[31merror=\u001b[0m\u001b[31m\"Unauthorized: Failed to get tunnel\"\u001b[0m \u001b[36mconnIndex=\u001b[0m0 \u001b[36mip=\u001b[0m198.41.200.73\n",
            "\u001b[90m2022-12-10T18:51:05Z\u001b[0m \u001b[1m\u001b[31mERR\u001b[0m\u001b[0m Register tunnel error from server side \u001b[31merror=\u001b[0m\u001b[31m\"Unauthorized: Failed to get tunnel\"\u001b[0m \u001b[36mconnIndex=\u001b[0m0 \u001b[36mip=\u001b[0m198.41.200.73\n",
            "\u001b[90m2022-12-10T18:51:05Z\u001b[0m \u001b[32mINF\u001b[0m Retrying connection in up to 8s \u001b[36mconnIndex=\u001b[0m0 \u001b[36mip=\u001b[0m198.41.200.73\n",
            "\u001b[90m2022-12-10T18:51:11Z\u001b[0m \u001b[1m\u001b[31mERR\u001b[0m\u001b[0m Failed to serve quic connection \u001b[31merror=\u001b[0m\u001b[31m\"Unauthorized: Failed to get tunnel\"\u001b[0m \u001b[36mconnIndex=\u001b[0m0 \u001b[36mip=\u001b[0m198.41.200.73\n",
            "\u001b[90m2022-12-10T18:51:11Z\u001b[0m \u001b[1m\u001b[31mERR\u001b[0m\u001b[0m Register tunnel error from server side \u001b[31merror=\u001b[0m\u001b[31m\"Unauthorized: Failed to get tunnel\"\u001b[0m \u001b[36mconnIndex=\u001b[0m0 \u001b[36mip=\u001b[0m198.41.200.73\n",
            "\u001b[90m2022-12-10T18:51:11Z\u001b[0m \u001b[32mINF\u001b[0m Retrying connection in up to 16s \u001b[36mconnIndex=\u001b[0m0 \u001b[36mip=\u001b[0m198.41.200.73\n",
            "LatentDiffusion: Running in eps-prediction mode\n",
            "DiffusionWrapper has 859.52 M params.\n",
            "making attention of type 'vanilla' with 512 in_channels\n",
            "Working with z of shape (1, 4, 64, 64) = 16384 dimensions.\n",
            "making attention of type 'vanilla' with 512 in_channels\n",
            "\u001b[90m2022-12-10T18:51:26Z\u001b[0m \u001b[32mINF\u001b[0m Connection 0d068a4e-cb34-465a-a371-b3ed5ede1bff registered with protocol: quic \u001b[36mconnIndex=\u001b[0m0 \u001b[36mip=\u001b[0m198.41.200.73 \u001b[36mlocation=\u001b[0mORD\n",
            "Started frozen clip class\n",
            "\u001b[90m2022-12-10T18:51:26Z\u001b[0m \u001b[32mINF\u001b[0m Connection b53e874d-d65c-499b-b181-37586677b3c7 registered with protocol: quic \u001b[36mconnIndex=\u001b[0m1 \u001b[36mip=\u001b[0m198.41.192.27 \u001b[36mlocation=\u001b[0mDFW\n",
            "\u001b[90m2022-12-10T18:51:27Z\u001b[0m \u001b[32mINF\u001b[0m Connection 1c307a86-aad8-4890-b17c-cfb1cd3222bb registered with protocol: quic \u001b[36mconnIndex=\u001b[0m2 \u001b[36mip=\u001b[0m198.41.200.63 \u001b[36mlocation=\u001b[0mORD\n",
            "\u001b[90m2022-12-10T18:51:28Z\u001b[0m \u001b[32mINF\u001b[0m Connection 3c6f26e6-1500-4ba3-a916-c4c8690ceeb0 registered with protocol: quic \u001b[36mconnIndex=\u001b[0m3 \u001b[36mip=\u001b[0m198.41.192.7 \u001b[36mlocation=\u001b[0mDFW\n",
            "\u001b[90m2022-12-10T18:51:33Z\u001b[0m \u001b[1m\u001b[31mERR\u001b[0m\u001b[0m  \u001b[31merror=\u001b[0m\u001b[31m\"Unable to reach the origin service. The service may be down or it may not be responding to traffic from cloudflared: dial tcp 127.0.0.1:6969: connect: connection refused\"\u001b[0m \u001b[36mcfRay=\u001b[0m77782c2e6112e732-DFW \u001b[36moriginService=\u001b[0mhttp://localhost:6969\n",
            "\u001b[90m2022-12-10T18:51:33Z\u001b[0m \u001b[1m\u001b[31mERR\u001b[0m\u001b[0m Request failed \u001b[31merror=\u001b[0m\u001b[31m\"Unable to reach the origin service. The service may be down or it may not be responding to traffic from cloudflared: dial tcp 127.0.0.1:6969: connect: connection refused\"\u001b[0m \u001b[36mconnIndex=\u001b[0m1 \u001b[36mdest=\u001b[0mhttps://myth-firefox-complete-thanksgiving.trycloudflare.com/favicon.ico \u001b[36mip=\u001b[0m198.41.192.27 \u001b[36mtype=\u001b[0mhttp\n",
            "\u001b[90m2022-12-10T18:51:44Z\u001b[0m \u001b[1m\u001b[31mERR\u001b[0m\u001b[0m  \u001b[31merror=\u001b[0m\u001b[31m\"Unable to reach the origin service. The service may be down or it may not be responding to traffic from cloudflared: dial tcp 127.0.0.1:6969: connect: connection refused\"\u001b[0m \u001b[36mcfRay=\u001b[0m77782c7063bee732-DFW \u001b[36moriginService=\u001b[0mhttp://localhost:6969\n",
            "\u001b[90m2022-12-10T18:51:44Z\u001b[0m \u001b[1m\u001b[31mERR\u001b[0m\u001b[0m Request failed \u001b[31merror=\u001b[0m\u001b[31m\"Unable to reach the origin service. The service may be down or it may not be responding to traffic from cloudflared: dial tcp 127.0.0.1:6969: connect: connection refused\"\u001b[0m \u001b[36mconnIndex=\u001b[0m1 \u001b[36mdest=\u001b[0mhttps://myth-firefox-complete-thanksgiving.trycloudflare.com/ \u001b[36mip=\u001b[0m198.41.192.27 \u001b[36mtype=\u001b[0mhttp\n",
            "\u001b[90m2022-12-10T18:51:44Z\u001b[0m \u001b[1m\u001b[31mERR\u001b[0m\u001b[0m  \u001b[31merror=\u001b[0m\u001b[31m\"Unable to reach the origin service. The service may be down or it may not be responding to traffic from cloudflared: dial tcp 127.0.0.1:6969: connect: connection refused\"\u001b[0m \u001b[36mcfRay=\u001b[0m77782c73d63fe732-DFW \u001b[36moriginService=\u001b[0mhttp://localhost:6969\n",
            "\u001b[90m2022-12-10T18:51:44Z\u001b[0m \u001b[1m\u001b[31mERR\u001b[0m\u001b[0m Request failed \u001b[31merror=\u001b[0m\u001b[31m\"Unable to reach the origin service. The service may be down or it may not be responding to traffic from cloudflared: dial tcp 127.0.0.1:6969: connect: connection refused\"\u001b[0m \u001b[36mconnIndex=\u001b[0m1 \u001b[36mdest=\u001b[0mhttps://myth-firefox-complete-thanksgiving.trycloudflare.com/favicon.ico \u001b[36mip=\u001b[0m198.41.192.27 \u001b[36mtype=\u001b[0mhttp\n",
            "2022-12-10 18:51:46,201 INFO models.py(543) - Using VAE from models/animevae.pt\n",
            "2022-12-10 18:51:46,201 INFO models.py(543) - CLIP: Using penultimate layer\n",
            "2022-12-10 18:51:46,224 INFO models.py(543) - Using EMA\n",
            "\u001b[90m2022-12-10T18:51:56Z\u001b[0m \u001b[1m\u001b[31mERR\u001b[0m\u001b[0m  \u001b[31merror=\u001b[0m\u001b[31m\"Unable to reach the origin service. The service may be down or it may not be responding to traffic from cloudflared: dial tcp 127.0.0.1:6969: connect: connection refused\"\u001b[0m \u001b[36mcfRay=\u001b[0m77782cbd9535e5b5-DFW \u001b[36moriginService=\u001b[0mhttp://localhost:6969\n",
            "\u001b[90m2022-12-10T18:51:56Z\u001b[0m \u001b[1m\u001b[31mERR\u001b[0m\u001b[0m Request failed \u001b[31merror=\u001b[0m\u001b[31m\"Unable to reach the origin service. The service may be down or it may not be responding to traffic from cloudflared: dial tcp 127.0.0.1:6969: connect: connection refused\"\u001b[0m \u001b[36mconnIndex=\u001b[0m2 \u001b[36mdest=\u001b[0mhttps://myth-firefox-complete-thanksgiving.trycloudflare.com/ \u001b[36mip=\u001b[0m198.41.200.63 \u001b[36mtype=\u001b[0mhttp\n",
            "\u001b[90m2022-12-10T18:51:56Z\u001b[0m \u001b[1m\u001b[31mERR\u001b[0m\u001b[0m  \u001b[31merror=\u001b[0m\u001b[31m\"Unable to reach the origin service. The service may be down or it may not be responding to traffic from cloudflared: dial tcp 127.0.0.1:6969: connect: connection refused\"\u001b[0m \u001b[36mcfRay=\u001b[0m77782cbfa7e5e5b5-DFW \u001b[36moriginService=\u001b[0mhttp://localhost:6969\n",
            "\u001b[90m2022-12-10T18:51:56Z\u001b[0m \u001b[1m\u001b[31mERR\u001b[0m\u001b[0m Request failed \u001b[31merror=\u001b[0m\u001b[31m\"Unable to reach the origin service. The service may be down or it may not be responding to traffic from cloudflared: dial tcp 127.0.0.1:6969: connect: connection refused\"\u001b[0m \u001b[36mconnIndex=\u001b[0m2 \u001b[36mdest=\u001b[0mhttps://myth-firefox-complete-thanksgiving.trycloudflare.com/favicon.ico \u001b[36mip=\u001b[0m198.41.200.63 \u001b[36mtype=\u001b[0mhttp\n",
            "2022-12-10 18:52:03,426 INFO config.py(543) - Models loaded in 62.56s\n",
            "Generating tag embedding index for 39193 tags.\n",
            "\u001b[90m2022-12-10T18:52:15Z\u001b[0m \u001b[1m\u001b[31mERR\u001b[0m\u001b[0m  \u001b[31merror=\u001b[0m\u001b[31m\"Unable to reach the origin service. The service may be down or it may not be responding to traffic from cloudflared: dial tcp 127.0.0.1:6969: connect: connection refused\"\u001b[0m \u001b[36mcfRay=\u001b[0m77782d32a248e5b5-DFW \u001b[36moriginService=\u001b[0mhttp://localhost:6969\n",
            "\u001b[90m2022-12-10T18:52:15Z\u001b[0m \u001b[1m\u001b[31mERR\u001b[0m\u001b[0m Request failed \u001b[31merror=\u001b[0m\u001b[31m\"Unable to reach the origin service. The service may be down or it may not be responding to traffic from cloudflared: dial tcp 127.0.0.1:6969: connect: connection refused\"\u001b[0m \u001b[36mconnIndex=\u001b[0m2 \u001b[36mdest=\u001b[0mhttps://myth-firefox-complete-thanksgiving.trycloudflare.com/ \u001b[36mip=\u001b[0m198.41.200.63 \u001b[36mtype=\u001b[0mhttp\n",
            "\u001b[90m2022-12-10T18:52:15Z\u001b[0m \u001b[1m\u001b[31mERR\u001b[0m\u001b[0m  \u001b[31merror=\u001b[0m\u001b[31m\"Unable to reach the origin service. The service may be down or it may not be responding to traffic from cloudflared: dial tcp 127.0.0.1:6969: connect: connection refused\"\u001b[0m \u001b[36mcfRay=\u001b[0m77782d3464c3e5b5-DFW \u001b[36moriginService=\u001b[0mhttp://localhost:6969\n",
            "\u001b[90m2022-12-10T18:52:15Z\u001b[0m \u001b[1m\u001b[31mERR\u001b[0m\u001b[0m Request failed \u001b[31merror=\u001b[0m\u001b[31m\"Unable to reach the origin service. The service may be down or it may not be responding to traffic from cloudflared: dial tcp 127.0.0.1:6969: connect: connection refused\"\u001b[0m \u001b[36mconnIndex=\u001b[0m2 \u001b[36mdest=\u001b[0mhttps://myth-firefox-complete-thanksgiving.trycloudflare.com/favicon.ico \u001b[36mip=\u001b[0m198.41.200.63 \u001b[36mtype=\u001b[0mhttp\n",
            "Loaded tag suggestion model using phrase embeddings\n",
            "\u001b[32mINFO\u001b[0m:     Started server process [\u001b[36m543\u001b[0m]\n",
            "\u001b[32mINFO\u001b[0m:     Waiting for application startup.\n",
            "2022-12-10 18:52:19,768 INFO main.py(543) - FastAPI Started, serving\n",
            "\u001b[32mINFO\u001b[0m:     Application startup complete.\n",
            "\u001b[32mINFO\u001b[0m:     Uvicorn running on \u001b[1mhttp://0.0.0.0:6969\u001b[0m (Press CTRL+C to quit)\n",
            "\u001b[32mINFO\u001b[0m:     189.182.180.194:0 - \"\u001b[1mGET / HTTP/1.1\u001b[0m\" \u001b[32m200 OK\u001b[0m\n",
            "\u001b[32mINFO\u001b[0m:     189.182.180.194:0 - \"\u001b[1mGET /_next/static/chunks/pages/index-67838cc9a284731b.js HTTP/1.1\u001b[0m\" \u001b[32m200 OK\u001b[0m\n",
            "\u001b[32mINFO\u001b[0m:     189.182.180.194:0 - \"\u001b[1mGET /_next/static/chunks/webpack-b9b5e27f3c90f79a.js HTTP/1.1\u001b[0m\" \u001b[32m200 OK\u001b[0m\n",
            "\u001b[32mINFO\u001b[0m:     189.182.180.194:0 - \"\u001b[1mGET /_next/static/css/32f1e54debdb3c74.css HTTP/1.1\u001b[0m\" \u001b[32m200 OK\u001b[0m\n",
            "\u001b[32mINFO\u001b[0m:     189.182.180.194:0 - \"\u001b[1mGET /_next/static/chunks/main-f17b067b102428ca.js HTTP/1.1\u001b[0m\" \u001b[32m200 OK\u001b[0m\n",
            "\u001b[32mINFO\u001b[0m:     189.182.180.194:0 - \"\u001b[1mGET /_next/static/chunks/pages/_app-128a4b077453e8e5.js HTTP/1.1\u001b[0m\" \u001b[32m200 OK\u001b[0m\n",
            "\u001b[32mINFO\u001b[0m:     189.182.180.194:0 - \"\u001b[1mGET /_next/static/MG2vPPHR3En34h0ZDGvU7/_ssgManifest.js HTTP/1.1\u001b[0m\" \u001b[32m200 OK\u001b[0m\n",
            "\u001b[32mINFO\u001b[0m:     189.182.180.194:0 - \"\u001b[1mGET /_next/static/MG2vPPHR3En34h0ZDGvU7/_buildManifest.js HTTP/1.1\u001b[0m\" \u001b[32m200 OK\u001b[0m\n",
            "\u001b[32mINFO\u001b[0m:     189.182.180.194:0 - \"\u001b[1mGET /_next/static/media/cross.fac5a02a.svg HTTP/1.1\u001b[0m\" \u001b[32m200 OK\u001b[0m\n",
            "\u001b[32mINFO\u001b[0m:     189.182.180.194:0 - \"\u001b[1mGET /_next/static/media/check.c906eb0a.svg HTTP/1.1\u001b[0m\" \u001b[32m200 OK\u001b[0m\n",
            "\u001b[32mINFO\u001b[0m:     189.182.180.194:0 - \"\u001b[1mGET /_next/static/media/SourceSansPro-Regular.ba487c32.woff2 HTTP/1.1\u001b[0m\" \u001b[32m200 OK\u001b[0m\n",
            "\u001b[32mINFO\u001b[0m:     189.182.180.194:0 - \"\u001b[1mGET /_next/static/media/history.b9b000e8.svg HTTP/1.1\u001b[0m\" \u001b[32m200 OK\u001b[0m\n",
            "\u001b[32mINFO\u001b[0m:     34.83.203.92:0 - \"\u001b[1mGET / HTTP/1.1\u001b[0m\" \u001b[32m200 OK\u001b[0m\n",
            "\u001b[32mINFO\u001b[0m:     34.83.203.92:0 - \"\u001b[1mGET / HTTP/1.1\u001b[0m\" \u001b[32m200 OK\u001b[0m\n",
            "\u001b[32mINFO\u001b[0m:     34.83.203.92:0 - \"\u001b[1mGET /icons/novelai-round.png HTTP/1.1\u001b[0m\" \u001b[32m200 OK\u001b[0m\n",
            "\u001b[32mINFO\u001b[0m:     34.83.203.92:0 - \"\u001b[1mGET /favicon.ico HTTP/1.1\u001b[0m\" \u001b[31m404 Not Found\u001b[0m\n",
            "\u001b[32mINFO\u001b[0m:     189.182.180.194:0 - \"\u001b[1mGET /icons/novelai-round.png HTTP/1.1\u001b[0m\" \u001b[32m200 OK\u001b[0m\n",
            "\u001b[32mINFO\u001b[0m:     189.182.180.194:0 - \"\u001b[1mGET /icons/novelai-square.png HTTP/1.1\u001b[0m\" \u001b[31m404 Not Found\u001b[0m\n",
            "\u001b[32mINFO\u001b[0m:     189.182.180.194:0 - \"\u001b[1mGET /_next/static/chunks/247.9ec9f56bc609a550.js HTTP/1.1\u001b[0m\" \u001b[32m200 OK\u001b[0m\n",
            "\u001b[32mINFO\u001b[0m:     189.182.180.194:0 - \"\u001b[1mGET /manifest.json HTTP/1.1\u001b[0m\" \u001b[32m200 OK\u001b[0m\n",
            "\u001b[32mINFO\u001b[0m:     189.182.180.194:0 - \"\u001b[1mGET /icons/novelai512.png HTTP/1.1\u001b[0m\" \u001b[31m404 Not Found\u001b[0m\n",
            "\u001b[32mINFO\u001b[0m:     189.182.180.194:0 - \"\u001b[1mGET /_next/static/chunks/140.a9739eb472fc0dc3.js HTTP/1.1\u001b[0m\" \u001b[32m200 OK\u001b[0m\n",
            "\u001b[32mINFO\u001b[0m:     189.182.180.194:0 - \"\u001b[1mGET /tokenizer/clip_tokenizer.json?static=true HTTP/1.1\u001b[0m\" \u001b[32m200 OK\u001b[0m\n",
            "2022-12-10 18:52:56,177 INFO main.py(543) - Request took 0.024 seconds\n",
            "\u001b[32mINFO\u001b[0m:     189.182.180.194:0 - \"\u001b[1mGET /predict-tags?prompt=Koc HTTP/1.1\u001b[0m\" \u001b[32m200 OK\u001b[0m\n",
            "2022-12-10 18:52:59,237 INFO main.py(543) - Request took 0.013 seconds\n",
            "\u001b[32mINFO\u001b[0m:     189.182.180.194:0 - \"\u001b[1mGET /predict-tags?prompt=Koch HTTP/1.1\u001b[0m\" \u001b[32m200 OK\u001b[0m\n",
            "2022-12-10 18:53:06,463 INFO main.py(543) - Request took 0.014 seconds\n",
            "\u001b[32mINFO\u001b[0m:     189.182.180.194:0 - \"\u001b[1mGET /predict-tags?prompt=as HTTP/1.1\u001b[0m\" \u001b[32m200 OK\u001b[0m\n",
            "\u001b[32mINFO\u001b[0m:     189.182.180.194:0 - \"\u001b[1mGET /_next/static/chunks/157.4184b7ea2aeb8d93.js HTTP/1.1\u001b[0m\" \u001b[32m200 OK\u001b[0m\n",
            "2022-12-10 18:53:11,123 INFO main.py(543) - Request took 0.013 seconds\n",
            "\u001b[32mINFO\u001b[0m:     189.182.180.194:0 - \"\u001b[1mGET /predict-tags?prompt=ass HTTP/1.1\u001b[0m\" \u001b[32m200 OK\u001b[0m\n",
            "2022-12-10 18:53:18,920 INFO main.py(543) - Request took 0.014 seconds\n",
            "\u001b[32mINFO\u001b[0m:     189.182.180.194:0 - \"\u001b[1mGET /predict-tags?prompt=spread HTTP/1.1\u001b[0m\" \u001b[32m200 OK\u001b[0m\n",
            "2022-12-10 18:53:23,670 INFO main.py(543) - Request took 0.014 seconds\n",
            "\u001b[32mINFO\u001b[0m:     189.182.180.194:0 - \"\u001b[1mGET /predict-tags?prompt=bigh HTTP/1.1\u001b[0m\" \u001b[32m200 OK\u001b[0m\n",
            "2022-12-10 18:53:25,830 INFO main.py(543) - Request took 0.013 seconds\n",
            "\u001b[32mINFO\u001b[0m:     189.182.180.194:0 - \"\u001b[1mGET /predict-tags?prompt=nigh HTTP/1.1\u001b[0m\" \u001b[32m200 OK\u001b[0m\n",
            "2022-12-10 18:53:30,646 INFO main.py(543) - Request took 0.017 seconds\n",
            "\u001b[32mINFO\u001b[0m:     189.182.180.194:0 - \"\u001b[1mGET /predict-tags?prompt=dark HTTP/1.1\u001b[0m\" \u001b[32m200 OK\u001b[0m\n",
            "2022-12-10 18:53:34,979 INFO main.py(543) - Request took 0.020 seconds\n",
            "\u001b[32mINFO\u001b[0m:     189.182.180.194:0 - \"\u001b[1mGET /predict-tags?prompt=dark%20roo HTTP/1.1\u001b[0m\" \u001b[32m200 OK\u001b[0m\n",
            "100% 50/50 [00:28<00:00,  1.76it/s]\n",
            "2022-12-10 18:54:10,565 INFO main.py(543) - Request took 32.585 seconds\n",
            "\u001b[32mINFO\u001b[0m:     189.182.180.194:0 - \"\u001b[1mPOST /generate-stream HTTP/1.1\u001b[0m\" \u001b[32m200 OK\u001b[0m\n",
            "\u001b[32mINFO\u001b[0m:     189.182.180.194:0 - \"\u001b[1mGET /_next/static/media/save.36b86afc.svg HTTP/1.1\u001b[0m\" \u001b[32m200 OK\u001b[0m\n",
            "\u001b[32mINFO\u001b[0m:     189.182.180.194:0 - \"\u001b[1mGET /_next/static/media/variations.d35c8a3a.svg HTTP/1.1\u001b[0m\" \u001b[32m200 OK\u001b[0m\n",
            "\u001b[32mINFO\u001b[0m:     189.182.180.194:0 - \"\u001b[1mGET /_next/static/media/clipboard.579cb9e6.svg HTTP/1.1\u001b[0m\" \u001b[32m200 OK\u001b[0m\n",
            "\u001b[32mINFO\u001b[0m:     189.182.180.194:0 - \"\u001b[1mGET /_next/static/media/sparkles.b1e1a420.svg HTTP/1.1\u001b[0m\" \u001b[32m200 OK\u001b[0m\n",
            "\u001b[32mINFO\u001b[0m:     189.182.180.194:0 - \"\u001b[1mGET /_next/static/media/pen.87137c5d.svg HTTP/1.1\u001b[0m\" \u001b[32m200 OK\u001b[0m\n",
            "\u001b[2m2022-12-10T18:54:20.039556Z\u001b[0m \u001b[32m INFO\u001b[0m \u001b[1mproxy\u001b[0m\u001b[1m{\u001b[0m\u001b[3mid\u001b[0m\u001b[2m=\u001b[0m26644f2b-9484-4d9f-98a9-672acff7d01b\u001b[1m}\u001b[0m\u001b[2m:\u001b[0m \u001b[2mbore_cli::client\u001b[0m\u001b[2m:\u001b[0m new connection\n",
            "\u001b[2m2022-12-10T18:54:20.098059Z\u001b[0m \u001b[32m INFO\u001b[0m \u001b[1mproxy\u001b[0m\u001b[1m{\u001b[0m\u001b[3mid\u001b[0m\u001b[2m=\u001b[0m26644f2b-9484-4d9f-98a9-672acff7d01b\u001b[1m}\u001b[0m\u001b[2m:\u001b[0m \u001b[2mbore_cli::client\u001b[0m\u001b[2m:\u001b[0m connection exited\n",
            "2022-12-10 18:54:34,134 INFO main.py(543) - Request took 0.015 seconds\n",
            "\u001b[32mINFO\u001b[0m:     189.182.180.194:0 - \"\u001b[1mGET /predict-tags?prompt=ful HTTP/1.1\u001b[0m\" \u001b[32m200 OK\u001b[0m\n",
            "2022-12-10 18:54:40,392 INFO main.py(543) - Request took 0.014 seconds\n",
            "\u001b[32mINFO\u001b[0m:     189.182.180.194:0 - \"\u001b[1mGET /predict-tags?prompt=smo HTTP/1.1\u001b[0m\" \u001b[32m200 OK\u001b[0m\n",
            "2022-12-10 18:54:43,307 INFO main.py(543) - Request took 0.014 seconds\n",
            "\u001b[32mINFO\u001b[0m:     189.182.180.194:0 - \"\u001b[1mGET /predict-tags?prompt=smoo HTTP/1.1\u001b[0m\" \u001b[32m200 OK\u001b[0m\n",
            "Token indices sequence length is longer than the specified maximum sequence length for this model (159 > 77). Running this sequence through the model will result in indexing errors\n",
            "100% 50/50 [00:28<00:00,  1.78it/s]\n",
            "2022-12-10 18:55:59,520 INFO main.py(543) - Request took 31.496 seconds\n",
            "\u001b[32mINFO\u001b[0m:     189.182.180.194:0 - \"\u001b[1mPOST /generate-stream HTTP/1.1\u001b[0m\" \u001b[32m200 OK\u001b[0m\n",
            "2022-12-10 18:56:22,732 INFO main.py(543) - Request took 0.016 seconds\n",
            "\u001b[32mINFO\u001b[0m:     189.182.180.194:0 - \"\u001b[1mGET /predict-tags?prompt=room HTTP/1.1\u001b[0m\" \u001b[32m200 OK\u001b[0m\n",
            "2022-12-10 18:56:28,165 INFO main.py(543) - Request took 0.014 seconds\n",
            "\u001b[32mINFO\u001b[0m:     189.182.180.194:0 - \"\u001b[1mGET /predict-tags?prompt=be HTTP/1.1\u001b[0m\" \u001b[32m200 OK\u001b[0m\n",
            "2022-12-10 18:56:35,712 INFO main.py(543) - Request took 0.020 seconds\n",
            "\u001b[32mINFO\u001b[0m:     189.182.180.194:0 - \"\u001b[1mGET /predict-tags?prompt=po HTTP/1.1\u001b[0m\" \u001b[32m200 OK\u001b[0m\n",
            "2022-12-10 18:56:36,940 INFO main.py(543) - Request took 0.020 seconds\n",
            "\u001b[32mINFO\u001b[0m:     189.182.180.194:0 - \"\u001b[1mGET /predict-tags?prompt=point HTTP/1.1\u001b[0m\" \u001b[32m200 OK\u001b[0m\n"
          ]
        }
      ],
      "source": [
        "#@title ### 3. Start the model\n",
        "#@markdown Just visit the output mapping address (end with `trycloudflare.com` / `bore.pub`).\n",
        "#@markdown - Please wait until the model is loaded (`Application startup complete` appears) before accessing\n",
        "#@markdown - The service provided by cloudflare occasionally has a request timeout, which can be replaced by bore tunnel\n",
        "\n",
        "%cd /content/naifu\n",
        "!sed -i 's/# export SAVE_FILES=\"1\"/export SAVE_FILES=\"1\"/g' run.sh\n",
        "!bash run.sh & cloudflared tunnel --url localhost:6969"
      ]
    }
  ],
  "metadata": {
    "accelerator": "GPU",
    "colab": {
      "provenance": [],
      "include_colab_link": true
    },
    "kernelspec": {
      "display_name": "Python 3",
      "name": "python3"
    },
    "language_info": {
      "name": "python"
    }
  },
  "nbformat": 4,
  "nbformat_minor": 0
}